{
 "cells": [
  {
   "attachments": {},
   "cell_type": "markdown",
   "metadata": {},
   "source": [
    "# Hand digit classifier \n",
    "---\n",
    "## Incremental network quantization"
   ]
  },
  {
   "cell_type": "code",
   "execution_count": null,
   "metadata": {},
   "outputs": [],
   "source": [
    "import torch\n",
    "import torch.nn as nn\n",
    "import torch.optim as optim\n",
    "import torch.nn.functional as F\n",
    "import numpy as np\n",
    "import matplotlib.pyplot as plt\n",
    "import torchvision\n",
    "from skimage import io"
   ]
  },
  {
   "cell_type": "code",
   "execution_count": 85,
   "metadata": {},
   "outputs": [],
   "source": [
    "def getBounderyExponents(W, b):\n",
    "    s = torch.max(torch.abs(W)).item()\n",
    "    n1 = np.floor(np.log2(4*(s/3)))\n",
    "    n2 = n1 + 1 - (2**(b - 1))/2\n",
    "    return n1, n2\n",
    "\n",
    "def getQuantizationMask(W, percentage, T):\n",
    "    w = W.view(-1)\n",
    "    t = T.view(-1)\n",
    "    idx = t == 1\n",
    "\n",
    "    numberOfWeights = w.size(dim=0)\n",
    "    numberOfQWeights = int(percentage*numberOfWeights - t[idx].size(dim=0))\n",
    "\n",
    "    t_aux = torch.Tensor(np.ones_like(T)).view(-1)\n",
    "    w = w*(t_aux - t)\n",
    "    w = torch.abs(w)\n",
    "    sorted_w, indices_w = w.sort()\n",
    "    t[indices_w[-numberOfQWeights:]] = 1\n",
    "    \n",
    "    return t.view(T.size())\n",
    "\n",
    "def quantizeWeights(W, T):\n",
    "    T_aux = torch.Tensor(np.ones_like(T))\n",
    "    W1 = W*(T_aux - T)\n",
    "    W2 = W*T\n",
    "    closestExp = np.floor(np.log2(np.abs(W2*4/3)))\n",
    "    return torch.abs(closestExp), W1 + 2**closestExp"
   ]
  },
  {
   "cell_type": "code",
   "execution_count": null,
   "metadata": {},
   "outputs": [],
   "source": [
    "W = torch.tensor(np.array([\n",
    "    [0.01, 0.02, -0.2, 0.04, 0.33],\n",
    "    [0.17, -0.42, -0.33, 0.02, -0.05], \n",
    "    [0.02, 0.83, -0.03, 0.03, 0.06],\n",
    "    [-0.9, 0.07, 0.11, 0.87, -0.36], \n",
    "    [-0.73, 0.41, 0.42, 0.39, 0.47]]))\n",
    "bit_length = 4\n",
    "n1, n2 = getBounderyExponents(W, bit_length)\n",
    "print(n1, n2)\n",
    "T = torch.Tensor(np.zeros_like(W))\n",
    "T = getQuantizationMask(W, 0.5, T)\n",
    "print(W)\n",
    "print(T)\n",
    "T = getQuantizationMask(W, 0.75, T)\n",
    "print(W)\n",
    "print(T)\n",
    "T = getQuantizationMask(W, 1, T)\n",
    "print(W)\n",
    "print(T)"
   ]
  },
  {
   "cell_type": "code",
   "execution_count": null,
   "metadata": {},
   "outputs": [],
   "source": [
    "weight = np.array([-0.42, 0.87])\n",
    "\n",
    "closestExp = np.floor(np.log2(np.abs(weight*4/3)))\n",
    "print(\"{} -> {}*2^{}\".format(weight, np.sign(weight), closestExp))"
   ]
  },
  {
   "cell_type": "code",
   "execution_count": 88,
   "metadata": {},
   "outputs": [
    {
     "name": "stdout",
     "output_type": "stream",
     "text": [
      "tensor([[ 0.0100,  0.0200, -0.2000,  0.0400,  0.3300],\n",
      "        [ 0.1700, -0.4200, -0.3300,  0.0200, -0.0500],\n",
      "        [ 0.0200,  0.8300, -0.0300,  0.0300,  0.0600],\n",
      "        [-0.9000,  0.0700,  0.1100,  0.8700, -0.3600],\n",
      "        [-0.7300,  0.4100,  0.4200,  0.3900,  0.4700]], dtype=torch.float64)\n",
      "tensor([[0., 0., 0., 0., 1.],\n",
      "        [0., 1., 1., 0., 0.],\n",
      "        [0., 1., 0., 0., 0.],\n",
      "        [1., 0., 0., 1., 1.],\n",
      "        [1., 1., 1., 1., 1.]])\n"
     ]
    },
    {
     "name": "stderr",
     "output_type": "stream",
     "text": [
      "C:\\Users\\iusti\\AppData\\Local\\Temp\\ipykernel_10572\\4171450455.py:27: RuntimeWarning: divide by zero encountered in log2\n",
      "  closestExp = np.floor(np.log2(np.abs(W2*4/3)))\n"
     ]
    },
    {
     "data": {
      "text/plain": [
       "(tensor([[-inf, -inf, -inf, -inf, -2.],\n",
       "         [-inf, -1., -2., -inf, -inf],\n",
       "         [-inf,  0., -inf, -inf, -inf],\n",
       "         [ 0., -inf, -inf,  0., -2.],\n",
       "         [-1., -1., -1., -1., -1.]], dtype=torch.float64),\n",
       " tensor([[ 0.0100,  0.0200, -0.2000,  0.0400,  0.2500],\n",
       "         [ 0.1700,  0.5000,  0.2500,  0.0200, -0.0500],\n",
       "         [ 0.0200,  1.0000, -0.0300,  0.0300,  0.0600],\n",
       "         [ 1.0000,  0.0700,  0.1100,  1.0000,  0.2500],\n",
       "         [ 0.5000,  0.5000,  0.5000,  0.5000,  0.5000]], dtype=torch.float64))"
      ]
     },
     "execution_count": 88,
     "metadata": {},
     "output_type": "execute_result"
    }
   ],
   "source": [
    "W = torch.tensor(np.array([\n",
    "    [0.01, 0.02, -0.2, 0.04, 0.33],\n",
    "    [0.17, -0.42, -0.33, 0.02, -0.05], \n",
    "    [0.02, 0.83, -0.03, 0.03, 0.06],\n",
    "    [-0.9, 0.07, 0.11, 0.87, -0.36], \n",
    "    [-0.73, 0.41, 0.42, 0.39, 0.47]]))\n",
    "    \n",
    "T = torch.Tensor(np.zeros_like(W))\n",
    "T = getQuantizationMask(W, 0.5, T)\n",
    "print(W)\n",
    "print(T)\n",
    "quantizeWeights(W, T)"
   ]
  }
 ],
 "metadata": {
  "kernelspec": {
   "display_name": "Python 3",
   "language": "python",
   "name": "python3"
  },
  "language_info": {
   "codemirror_mode": {
    "name": "ipython",
    "version": 3
   },
   "file_extension": ".py",
   "mimetype": "text/x-python",
   "name": "python",
   "nbconvert_exporter": "python",
   "pygments_lexer": "ipython3",
   "version": "3.10.5"
  },
  "orig_nbformat": 4,
  "vscode": {
   "interpreter": {
    "hash": "da9c6a45712c6b513c4a80738271fc65c25531d6aa017375b96d9ba6472bbc68"
   }
  }
 },
 "nbformat": 4,
 "nbformat_minor": 2
}
