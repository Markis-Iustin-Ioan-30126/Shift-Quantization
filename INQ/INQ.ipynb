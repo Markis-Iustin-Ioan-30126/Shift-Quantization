{
 "cells": [
  {
   "attachments": {},
   "cell_type": "markdown",
   "metadata": {},
   "source": [
    "# Hand digit classifier \n",
    "---\n",
    "## Incremental network quantization"
   ]
  },
  {
   "cell_type": "code",
   "execution_count": null,
   "metadata": {},
   "outputs": [],
   "source": [
    "import torch\n",
    "import torch.nn as nn\n",
    "import torch.optim as optim\n",
    "import torch.nn.functional as F\n",
    "import numpy as np\n",
    "import matplotlib.pyplot as plt\n",
    "import torchvision\n",
    "from skimage import io"
   ]
  },
  {
   "cell_type": "code",
   "execution_count": null,
   "metadata": {},
   "outputs": [],
   "source": [
    "def getBounderyExponents(W, b):\n",
    "    s = torch.max(torch.abs(W)).item()\n",
    "    n1 = np.floor(np.log2(4*(s/3)))\n",
    "    n2 = n1 + 1 - (2**(b - 1))/2\n",
    "    return n1, n2\n",
    "\n",
    "def getQuantizationMask(W, percentage, T):\n",
    "    w = W.view(-1)\n",
    "    t = T.view(-1)\n",
    "    idx = t == 1\n",
    "\n",
    "    numberOfWeights = w.size(dim=0)\n",
    "    numberOfQWeights = int(percentage*numberOfWeights - t[idx].size(dim=0))\n",
    "\n",
    "    t_aux = torch.Tensor(np.ones_like(T)).view(-1)\n",
    "    w = w*(t_aux - t)\n",
    "    w = torch.abs(w)\n",
    "    sorted_w, indices_w = w.sort()\n",
    "    t[indices_w[-numberOfQWeights:]] = 1\n",
    "    \n",
    "    return t.view(T.size())\n",
    "\n",
    "def quantizeWeights(W, T, n1, n2):\n",
    "    T_aux = torch.Tensor(np.ones_like(T))\n",
    "    eps = 1e-6\n",
    "    W1 = W*(T_aux - T)\n",
    "    idx = W == 0\n",
    "    W[idx] = eps\n",
    "\n",
    "    closestExp = np.floor(np.log2(np.abs(W*4/3)))\n",
    "    Q = W1 + (2**closestExp)*T\n",
    "\n",
    "    idx = closestExp < n2\n",
    "    Q[idx] = 0\n",
    "    idx = closestExp > n1\n",
    "    Q[idx] = 2**n1\n",
    "\n",
    "    return closestExp, Q"
   ]
  },
  {
   "cell_type": "code",
   "execution_count": 112,
   "metadata": {},
   "outputs": [
    {
     "name": "stdout",
     "output_type": "stream",
     "text": [
      "0.0 -3.0\n",
      "tensor([[ 0.0100,  0.0200, -0.2000,  0.0400,  0.2500],\n",
      "        [ 0.1700,  0.5000,  0.2500,  0.0200, -0.0500],\n",
      "        [ 0.0200,  1.0000, -0.0300,  0.0300,  0.0600],\n",
      "        [ 1.0000,  0.0700,  0.1100,  1.0000,  0.2500],\n",
      "        [ 0.5000,  0.5000,  0.5000,  0.5000,  0.5000]], dtype=torch.float64)\n",
      "tensor([[-20., -20., -20., -20.,  -2.],\n",
      "        [-20.,  -1.,  -2., -20., -20.],\n",
      "        [-20.,   0., -20., -20., -20.],\n",
      "        [  0., -20., -20.,   0.,  -2.],\n",
      "        [ -1.,  -1.,  -1.,  -1.,  -1.]], dtype=torch.float64)\n"
     ]
    },
    {
     "data": {
      "text/plain": [
       "tensor([[0.0000, 0.0000, 0.0000, 0.0000, 0.0000],\n",
       "        [0.0000, 0.5000, 0.0000, 0.0000, 0.0000],\n",
       "        [0.0000, 1.0000, 0.0000, 0.0000, 0.0000],\n",
       "        [1.0000, 0.0000, 0.0000, 1.0000, 0.0000],\n",
       "        [0.5000, 0.5000, 0.5000, 0.5000, 0.5000]], dtype=torch.float64)"
      ]
     },
     "execution_count": 112,
     "metadata": {},
     "output_type": "execute_result"
    }
   ],
   "source": [
    "W = torch.tensor(np.array([\n",
    "    [0.01, 0.02, -0.2, 0.04, 0.33],\n",
    "    [0.17, -0.42, -0.33, 0.02, -0.05], \n",
    "    [0.02, 0.83, -0.03, 0.03, 0.06],\n",
    "    [-0.9, 0.07, 0.11, 0.87, -0.36], \n",
    "    [-0.73, 0.41, 0.42, 0.39, 0.47]]))\n",
    "bit_length = 4\n",
    "n1, n2 = getBounderyExponents(W, bit_length)\n",
    "print(n1, n2)\n",
    "T = torch.Tensor(np.zeros_like(W))\n",
    "T = getQuantizationMask(W, 0.5, T)\n",
    "\n",
    "T_aux = torch.Tensor(np.ones_like(T))\n",
    "eps = 1e-6\n",
    "W1 = W*(T_aux - T)\n",
    "W2 = W*T + eps*(T_aux - T)\n",
    "#print(W2)\n",
    "closestExp = np.floor(np.log2(np.abs(W2*4/3)))\n",
    "print(W1 + (2**closestExp)*T)\n",
    "print(closestExp)\n",
    "Q = W1 + (2**closestExp)*T\n",
    "idx = closestExp < -1\n",
    "Q[idx] = 0\n",
    "Q"
   ]
  },
  {
   "cell_type": "code",
   "execution_count": null,
   "metadata": {},
   "outputs": [],
   "source": [
    "weight = np.array([-0.02, 0.87])\n",
    "\n",
    "closestExp = np.floor(np.log2(np.abs(weight*4/3)))\n",
    "print(\"{} -> {}*2^{}\".format(weight, np.sign(weight), closestExp))"
   ]
  }
 ],
 "metadata": {
  "kernelspec": {
   "display_name": "Python 3",
   "language": "python",
   "name": "python3"
  },
  "language_info": {
   "codemirror_mode": {
    "name": "ipython",
    "version": 3
   },
   "file_extension": ".py",
   "mimetype": "text/x-python",
   "name": "python",
   "nbconvert_exporter": "python",
   "pygments_lexer": "ipython3",
   "version": "3.10.5"
  },
  "orig_nbformat": 4,
  "vscode": {
   "interpreter": {
    "hash": "da9c6a45712c6b513c4a80738271fc65c25531d6aa017375b96d9ba6472bbc68"
   }
  }
 },
 "nbformat": 4,
 "nbformat_minor": 2
}
