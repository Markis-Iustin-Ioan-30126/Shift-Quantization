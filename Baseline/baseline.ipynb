{
 "cells": [
  {
   "attachments": {},
   "cell_type": "markdown",
   "metadata": {},
   "source": [
    "# Hand digit classifier baseline\n",
    "---\n",
    "## Floating point precision weights"
   ]
  },
  {
   "cell_type": "code",
   "execution_count": 1,
   "metadata": {},
   "outputs": [],
   "source": [
    "import torch\n",
    "import torch.nn as nn\n",
    "import torch.optim as optim\n",
    "import torch.nn.functional as F\n",
    "import numpy as np\n",
    "import matplotlib.pyplot as plt\n",
    "import torchvision\n",
    "from skimage import io"
   ]
  },
  {
   "attachments": {},
   "cell_type": "markdown",
   "metadata": {},
   "source": [
    "### Importing MNIST dataset"
   ]
  },
  {
   "cell_type": "code",
   "execution_count": 2,
   "metadata": {},
   "outputs": [],
   "source": [
    "transform = torchvision.transforms.Compose([\n",
    "    torchvision.transforms.ToTensor(),\n",
    "])\n",
    "\n",
    "train_data = torchvision.datasets.MNIST(root='../', train=True, download=True, transform=transform)\n",
    "test_set = torchvision.datasets.MNIST(root=\"../\", train=False, download=True, transform=transform)\n",
    "\n",
    "train_set = [train_data[i] for i in range(50000)]\n",
    "validation_set = [train_data[i] for i in range(50000, 60000)]"
   ]
  },
  {
   "attachments": {},
   "cell_type": "markdown",
   "metadata": {},
   "source": [
    "### Setting up data loaders"
   ]
  },
  {
   "cell_type": "code",
   "execution_count": 3,
   "metadata": {},
   "outputs": [],
   "source": [
    "train_loader = torch.utils.data.DataLoader(train_set, batch_size=64, shuffle=True, num_workers=2)\n",
    "validation_loader = torch.utils.data.DataLoader(validation_set, batch_size=64, shuffle=False, num_workers=2)\n",
    "test_loader = torch.utils.data.DataLoader(test_set, batch_size=64, shuffle=False, num_workers=2)"
   ]
  },
  {
   "attachments": {},
   "cell_type": "markdown",
   "metadata": {},
   "source": [
    "### Definig a VGG-7 inspired architecture model\n",
    "---\n",
    "Featuring 4 convolutional and 3 fully connected layers"
   ]
  },
  {
   "cell_type": "code",
   "execution_count": 4,
   "metadata": {},
   "outputs": [],
   "source": [
    "class VGG7(nn.Module):\n",
    "    def __init__(self):\n",
    "        super(VGG7, self).__init__()\n",
    "        self.conv1 = nn.Conv2d(1, 64, 3, padding=\"same\", stride=1, bias=False)\n",
    "        self.conv2 = nn.Conv2d(64, 64, 3, padding=\"same\", stride=1, bias=False)\n",
    "        self.conv3 = nn.Conv2d(64, 128, 3, padding=\"same\", stride=1, bias=False)\n",
    "        self.conv4 = nn.Conv2d(128, 128, 3, padding=\"same\", stride=1, bias=False)\n",
    "        \n",
    "        self.fc1 = nn.Linear(7*7*128, 512, bias=False)\n",
    "        self.fc2 = nn.Linear(512, 256, bias=False)\n",
    "        self.fc3 = nn.Linear(256, 10, bias=False)\n",
    "\n",
    "    def forward(self, x): \n",
    "        x = self.conv1(x)\n",
    "        x = F.relu(x)\n",
    "        x = self.conv2(x)\n",
    "        x = F.relu(x)\n",
    "        x = F.max_pool2d(x, 2, stride=2)\n",
    "\n",
    "        x = self.conv3(x)\n",
    "        x = F.relu(x)\n",
    "        x = self.conv4(x)\n",
    "        x = F.relu(x)\n",
    "        x = F.max_pool2d(x, 2, stride=2)  \n",
    "\n",
    "        x = x.view(-1, 7*7*128)\n",
    "        x = self.fc1(x)\n",
    "        x = F.relu(x)\n",
    "        x = self.fc2(x)\n",
    "        x = F.relu(x)\n",
    "        x = self.fc3(x)  \n",
    "\n",
    "        x = F.log_softmax(x, dim=1)  \n",
    "\n",
    "        return x"
   ]
  },
  {
   "attachments": {},
   "cell_type": "markdown",
   "metadata": {},
   "source": [
    "### Device initialization for training"
   ]
  },
  {
   "cell_type": "code",
   "execution_count": 5,
   "metadata": {},
   "outputs": [],
   "source": [
    "device = torch.device(\"cuda\" if torch.cuda.is_available() else \"cpu\")"
   ]
  },
  {
   "attachments": {},
   "cell_type": "markdown",
   "metadata": {},
   "source": [
    "### Training"
   ]
  },
  {
   "cell_type": "code",
   "execution_count": 6,
   "metadata": {},
   "outputs": [
    {
     "name": "stdout",
     "output_type": "stream",
     "text": [
      "Train epoch:0, batch index:99, loss:0.023016703128814698\n",
      "Train epoch:0, batch index:199, loss:0.02301396369934082\n",
      "Train epoch:0, batch index:299, loss:0.02300480127334595\n",
      "Train epoch:0, batch index:399, loss:0.02299464702606201\n",
      "Train epoch:0, batch index:499, loss:0.02297706365585327\n",
      "Train epoch:0, batch index:599, loss:0.02291097640991211\n",
      "Train epoch:0, batch index:699, loss:0.022857799530029296\n",
      "Train epoch:1, batch index:17, loss:0.02244194984436035\n",
      "Train epoch:1, batch index:117, loss:0.014411649703979491\n",
      "Train epoch:1, batch index:217, loss:0.00801357090473175\n",
      "Train epoch:1, batch index:317, loss:0.005665767192840576\n",
      "Train epoch:1, batch index:417, loss:0.003815625309944153\n",
      "Train epoch:1, batch index:517, loss:0.003314356803894043\n",
      "Train epoch:1, batch index:617, loss:0.003037271499633789\n",
      "Train epoch:1, batch index:717, loss:0.0025445002317428587\n",
      "Train epoch:2, batch index:35, loss:0.002961798906326294\n",
      "Train epoch:2, batch index:135, loss:0.0045969834923744205\n",
      "Train epoch:2, batch index:235, loss:0.0009923046082258224\n",
      "Train epoch:2, batch index:335, loss:0.0028603672981262207\n",
      "Train epoch:2, batch index:435, loss:0.001956045478582382\n",
      "Train epoch:2, batch index:535, loss:0.0018852727115154266\n",
      "Train epoch:2, batch index:635, loss:0.0025294390320777893\n",
      "Train epoch:2, batch index:735, loss:0.0023034687340259554\n",
      "Train epoch:3, batch index:53, loss:0.0018616265058517456\n",
      "Train epoch:3, batch index:153, loss:0.0018348249793052674\n",
      "Train epoch:3, batch index:253, loss:0.00227085679769516\n",
      "Train epoch:3, batch index:353, loss:0.0021391768753528597\n",
      "Train epoch:3, batch index:453, loss:0.002358632981777191\n",
      "Train epoch:3, batch index:553, loss:0.0016772708296775819\n",
      "Train epoch:3, batch index:653, loss:0.00048735100775957105\n",
      "Train epoch:3, batch index:753, loss:0.003690374195575714\n",
      "Train epoch:4, batch index:71, loss:0.001121993511915207\n",
      "Train epoch:4, batch index:171, loss:0.0013541747629642487\n",
      "Train epoch:4, batch index:271, loss:0.0022801606357097624\n",
      "Train epoch:4, batch index:371, loss:0.0007064087688922882\n",
      "Train epoch:4, batch index:471, loss:0.0021493230760097504\n",
      "Train epoch:4, batch index:571, loss:0.0013406771421432496\n",
      "Train epoch:4, batch index:671, loss:0.0013162535429000854\n",
      "Train epoch:4, batch index:771, loss:0.000605885572731495\n",
      "Train epoch:5, batch index:89, loss:0.001360059231519699\n",
      "Train epoch:5, batch index:189, loss:0.0006247031688690186\n",
      "Train epoch:5, batch index:289, loss:0.001252223253250122\n",
      "Train epoch:5, batch index:389, loss:0.0010486958920955657\n",
      "Train epoch:5, batch index:489, loss:0.0008690113574266433\n",
      "Train epoch:5, batch index:589, loss:0.0006882473081350327\n",
      "Train epoch:5, batch index:689, loss:0.0017560799419879913\n",
      "Train epoch:6, batch index:7, loss:0.0010505790263414382\n",
      "Train epoch:6, batch index:107, loss:0.0009377093613147736\n",
      "Train epoch:6, batch index:207, loss:0.000990718975663185\n",
      "Train epoch:6, batch index:307, loss:0.0002357880212366581\n",
      "Train epoch:6, batch index:407, loss:0.0006962897628545761\n",
      "Train epoch:6, batch index:507, loss:0.00026245344430208205\n",
      "Train epoch:6, batch index:607, loss:0.0009744882583618164\n",
      "Train epoch:6, batch index:707, loss:0.0012440036237239837\n",
      "Train epoch:7, batch index:25, loss:0.00029244186356663704\n",
      "Train epoch:7, batch index:125, loss:0.00020039532333612442\n",
      "Train epoch:7, batch index:225, loss:0.0006461317837238312\n",
      "Train epoch:7, batch index:325, loss:0.00024316903203725816\n",
      "Train epoch:7, batch index:425, loss:0.0010885558277368545\n",
      "Train epoch:7, batch index:525, loss:0.0006506919860839843\n",
      "Train epoch:7, batch index:625, loss:0.0002940570004284382\n",
      "Train epoch:7, batch index:725, loss:0.0011201570928096771\n",
      "Train epoch:8, batch index:43, loss:0.00018100954592227935\n",
      "Train epoch:8, batch index:143, loss:0.0007430746406316757\n",
      "Train epoch:8, batch index:243, loss:0.0017024122178554534\n",
      "Train epoch:8, batch index:343, loss:0.0003474290668964386\n",
      "Train epoch:8, batch index:443, loss:0.00015262626111507417\n",
      "Train epoch:8, batch index:543, loss:0.0009782519191503525\n",
      "Train epoch:8, batch index:643, loss:0.00016820328310132026\n",
      "Train epoch:8, batch index:743, loss:0.0003993435576558113\n",
      "Train epoch:9, batch index:61, loss:0.00027091605588793757\n",
      "Train epoch:9, batch index:161, loss:0.0011659073084592819\n",
      "Train epoch:9, batch index:261, loss:0.0004360190033912659\n",
      "Train epoch:9, batch index:361, loss:0.0006760518252849579\n",
      "Train epoch:9, batch index:461, loss:0.0017801785469055175\n",
      "Train epoch:9, batch index:561, loss:0.00019180046394467353\n",
      "Train epoch:9, batch index:661, loss:0.0007973997294902801\n",
      "Train epoch:9, batch index:761, loss:0.00011463222093880177\n"
     ]
    }
   ],
   "source": [
    "net = VGG7()\n",
    "net.to(device)\n",
    "\n",
    "optimizer = optim.SGD(net.parameters(), lr = 1e-2, weight_decay=0)\n",
    "\n",
    "logs_interval = 100\n",
    "epochs = 10\n",
    "\n",
    "train_losses = []\n",
    "iteration = 0\n",
    "\n",
    "net.train()\n",
    "\n",
    "for epoch in range(epochs):\n",
    "    for batch_idx, (data, target) in enumerate(train_loader):\n",
    "        data, target = data.to(device), target.to(device)\n",
    "        optimizer.zero_grad()\n",
    "        output = net(data)\n",
    "        loss = F.nll_loss(output, target)\n",
    "        loss.backward()\n",
    "        optimizer.step()\n",
    "\n",
    "        iteration = iteration + 1\n",
    "        if iteration % logs_interval == 0:\n",
    "            print('Train epoch:{}, batch index:{}, loss:{}'.format(epoch, batch_idx, loss.item()/logs_interval))\n",
    "            train_losses.append(loss.item())\n",
    "\n",
    "torch.save(net, \"baseline.pth\")"
   ]
  },
  {
   "attachments": {},
   "cell_type": "markdown",
   "metadata": {},
   "source": [
    "### Evaluate model performance on test data"
   ]
  },
  {
   "cell_type": "code",
   "execution_count": 10,
   "metadata": {},
   "outputs": [
    {
     "name": "stdout",
     "output_type": "stream",
     "text": [
      "Test set average loss: 0.04936047224765643, accuracy: 98.45%\n"
     ]
    },
    {
     "data": {
      "text/plain": [
       "[<matplotlib.lines.Line2D at 0x15c10852980>]"
      ]
     },
     "execution_count": 10,
     "metadata": {},
     "output_type": "execute_result"
    },
    {
     "data": {
      "image/png": "[encoded data removed]",
      "text/plain": [
       "<Figure size 640x480 with 1 Axes>"
      ]
     },
     "metadata": {},
     "output_type": "display_data"
    }
   ],
   "source": [
    "net.eval()\n",
    "loss = 0\n",
    "correct = 0\n",
    "\n",
    "confusion_matrix = np.zeros((10, 10))\n",
    "\n",
    "with torch.no_grad():\n",
    "    for data, target in test_loader:\n",
    "        data, target = data.to(device), target.to(device)\n",
    "        output = net(data)\n",
    "        loss += F.nll_loss(output, target, reduction=\"sum\").item()\n",
    "        pred = output.max(1, keepdim=True)[1]\n",
    "        correct += pred.eq(target.view_as(pred)).sum().item()\n",
    "        confusion_matrix[pred.cpu()[:, 0], target.cpu()] += 1\n",
    "\n",
    "    loss = loss/len(test_loader.dataset)\n",
    "    accuracy = 100.*correct/len(test_loader.dataset)\n",
    "    print('Test set average loss: {}, accuracy: {}%'.format(loss, accuracy))\n",
    "\n",
    "plt.plot(train_losses)"
   ]
  }
 ],
 "metadata": {
  "kernelspec": {
   "display_name": "Python 3",
   "language": "python",
   "name": "python3"
  },
  "language_info": {
   "codemirror_mode": {
    "name": "ipython",
    "version": 3
   },
   "file_extension": ".py",
   "mimetype": "text/x-python",
   "name": "python",
   "nbconvert_exporter": "python",
   "pygments_lexer": "ipython3",
   "version": "3.10.5 (tags/v3.10.5:f377153, Jun  6 2022, 16:14:13) [MSC v.1929 64 bit (AMD64)]"
  },
  "orig_nbformat": 4,
  "vscode": {
   "interpreter": {
    "hash": "da9c6a45712c6b513c4a80738271fc65c25531d6aa017375b96d9ba6472bbc68"
   }
  }
 },
 "nbformat": 4,
 "nbformat_minor": 2
}
