{
 "cells": [
  {
   "attachments": {},
   "cell_type": "markdown",
   "metadata": {},
   "source": [
    "# Hand digit classifier baseline\n",
    "---\n",
    "## Floating point precision weights"
   ]
  },
  {
   "cell_type": "code",
   "execution_count": null,
   "metadata": {},
   "outputs": [],
   "source": [
    "import torch\n",
    "import torch.nn as nn\n",
    "import torch.optim as optim\n",
    "import torch.nn.functional as F\n",
    "import numpy as np\n",
    "import matplotlib.pyplot as plt\n",
    "import torchvision\n",
    "from skimage import io"
   ]
  },
  {
   "attachments": {},
   "cell_type": "markdown",
   "metadata": {},
   "source": [
    "### Importing MNIST dataset"
   ]
  },
  {
   "cell_type": "code",
   "execution_count": null,
   "metadata": {},
   "outputs": [],
   "source": [
    "transform = torchvision.transforms.Compose([\n",
    "    torchvision.transforms.ToTensor(),\n",
    "])\n",
    "\n",
    "train_data = torchvision.datasets.MNIST(root='../', train=True, download=True, transform=transform)\n",
    "test_set = torchvision.datasets.MNIST(root=\"../\", train=False, download=True, transform=transform)\n",
    "\n",
    "train_set = [train_data[i] for i in range(50000)]\n",
    "validation_set = [train_data[i] for i in range(50000, 60000)]"
   ]
  },
  {
   "attachments": {},
   "cell_type": "markdown",
   "metadata": {},
   "source": [
    "### Setting up data loaders"
   ]
  },
  {
   "cell_type": "code",
   "execution_count": null,
   "metadata": {},
   "outputs": [],
   "source": [
    "train_loader = torch.utils.data.DataLoader(train_set, batch_size=64, shuffle=True, num_workers=2)\n",
    "validation_loader = torch.utils.data.DataLoader(validation_set, batch_size=64, shuffle=False, num_workers=2)\n",
    "test_loader = torch.utils.data.DataLoader(test_set, batch_size=64, shuffle=False, num_workers=2)"
   ]
  },
  {
   "attachments": {},
   "cell_type": "markdown",
   "metadata": {},
   "source": [
    "### Definig a VGG-7 inspired architecture model\n",
    "---\n",
    "Featuring 4 convolutional and 3 fully connected layers"
   ]
  },
  {
   "cell_type": "code",
   "execution_count": null,
   "metadata": {},
   "outputs": [],
   "source": [
    "class VGG7(nn.Module):\n",
    "    def __init__(self):\n",
    "        super(VGG7, self).__init__()\n",
    "        self.conv1 = nn.Conv2d(1, 64, 3, padding=\"same\", stride=1, bias=False)\n",
    "        self.conv2 = nn.Conv2d(64, 64, 3, padding=\"same\", stride=1, bias=False)\n",
    "        self.conv3 = nn.Conv2d(64, 128, 3, padding=\"same\", stride=1, bias=False)\n",
    "        self.conv4 = nn.Conv2d(128, 128, 3, padding=\"same\", stride=1, bias=False)\n",
    "        \n",
    "        self.fc1 = nn.Linear(7*7*128, 512, bias=False)\n",
    "        self.fc2 = nn.Linear(512, 256, bias=False)\n",
    "        self.fc3 = nn.Linear(256, 10, bias=False)\n",
    "\n",
    "    def forward(self, x): \n",
    "        x = self.conv1(x)\n",
    "        x = F.relu(x)\n",
    "        x = self.conv2(x)\n",
    "        x = F.relu(x)\n",
    "        x = F.max_pool2d(x, 2, stride=2)\n",
    "\n",
    "        x = self.conv3(x)\n",
    "        x = F.relu(x)\n",
    "        x = self.conv4(x)\n",
    "        x = F.relu(x)\n",
    "        x = F.max_pool2d(x, 2, stride=2)  \n",
    "\n",
    "        x = x.view(-1, 7*7*128)\n",
    "        x = self.fc1(x)\n",
    "        x = F.relu(x)\n",
    "        x = self.fc2(x)\n",
    "        x = F.relu(x)\n",
    "        x = self.fc3(x)  \n",
    "\n",
    "        x = F.log_softmax(x, dim=1)  \n",
    "\n",
    "        return x"
   ]
  },
  {
   "attachments": {},
   "cell_type": "markdown",
   "metadata": {},
   "source": [
    "### Device initialization for training"
   ]
  },
  {
   "cell_type": "code",
   "execution_count": null,
   "metadata": {},
   "outputs": [],
   "source": [
    "device = torch.device(\"cuda\" if torch.cuda.is_available() else \"cpu\")"
   ]
  },
  {
   "attachments": {},
   "cell_type": "markdown",
   "metadata": {},
   "source": [
    "### Training"
   ]
  },
  {
   "cell_type": "code",
   "execution_count": 10,
   "metadata": {},
   "outputs": [
    {
     "name": "stdout",
     "output_type": "stream",
     "text": [
      "Train epoch:0/10, batch:100, loss:0.0017024050652980805\n",
      "Train epoch:0/10, batch:200, loss:0.002036157548427582\n",
      "Train epoch:0/10, batch:300, loss:0.0018677014112472535\n",
      "Train epoch:0/10, batch:400, loss:0.0032955151796340942\n",
      "Train epoch:0/10, batch:500, loss:0.0006924165040254593\n",
      "Train epoch:0/10, batch:600, loss:0.0010783501714468002\n",
      "Train epoch:0/10, batch:700, loss:0.0035818222165107725\n",
      "Train epoch:1/10, batch:18, loss:0.0013134051859378815\n",
      "Train epoch:1/10, batch:118, loss:0.0008795128017663956\n",
      "Train epoch:1/10, batch:218, loss:0.001167532280087471\n",
      "Train epoch:1/10, batch:318, loss:0.002619178295135498\n",
      "Train epoch:1/10, batch:418, loss:0.0016861557960510254\n",
      "Train epoch:1/10, batch:518, loss:0.0008130979537963867\n",
      "Train epoch:1/10, batch:618, loss:0.002036275714635849\n",
      "Train epoch:1/10, batch:718, loss:0.0007880713790655136\n",
      "Train epoch:2/10, batch:36, loss:0.0021455298364162446\n",
      "Train epoch:2/10, batch:136, loss:0.0004970566555857659\n",
      "Train epoch:2/10, batch:236, loss:0.00010127190500497818\n",
      "Train epoch:2/10, batch:336, loss:0.002466718554496765\n",
      "Train epoch:2/10, batch:436, loss:0.0008650574088096618\n",
      "Train epoch:2/10, batch:536, loss:0.0001332069467753172\n",
      "Train epoch:2/10, batch:636, loss:0.0010416990518569947\n",
      "Train epoch:2/10, batch:736, loss:0.0015119346976280213\n",
      "Train epoch:3/10, batch:54, loss:0.0010251854360103607\n",
      "Train epoch:3/10, batch:154, loss:0.0010374580323696137\n",
      "Train epoch:3/10, batch:254, loss:0.0001952674426138401\n",
      "Train epoch:3/10, batch:354, loss:5.3390831453725696e-06\n",
      "Train epoch:3/10, batch:454, loss:0.0004990708827972412\n",
      "Train epoch:3/10, batch:554, loss:0.0001824500411748886\n",
      "Train epoch:3/10, batch:654, loss:0.00013675312511622905\n",
      "Train epoch:3/10, batch:754, loss:0.0025694310665130616\n",
      "Train epoch:4/10, batch:72, loss:0.00045260544866323473\n",
      "Train epoch:4/10, batch:172, loss:0.00014185260981321334\n",
      "Train epoch:4/10, batch:272, loss:0.0007460266351699829\n",
      "Train epoch:4/10, batch:372, loss:0.0009970999509096145\n",
      "Train epoch:4/10, batch:472, loss:0.0007740096002817154\n",
      "Train epoch:4/10, batch:572, loss:0.0023644842207431794\n",
      "Train epoch:4/10, batch:672, loss:0.0003483235090970993\n",
      "Train epoch:4/10, batch:772, loss:0.0009293118864297867\n",
      "Train epoch:5/10, batch:90, loss:0.0006937479972839355\n",
      "Train epoch:5/10, batch:190, loss:0.0007570994645357132\n",
      "Train epoch:5/10, batch:290, loss:0.0007499815523624421\n",
      "Train epoch:5/10, batch:390, loss:0.0010158799588680268\n",
      "Train epoch:5/10, batch:490, loss:0.0005457615852355957\n",
      "Train epoch:5/10, batch:590, loss:0.0018584246933460236\n",
      "Train epoch:5/10, batch:690, loss:0.0001501848828047514\n",
      "Train epoch:6/10, batch:8, loss:5.122656933963299e-05\n",
      "Train epoch:6/10, batch:108, loss:0.00034392353147268297\n",
      "Train epoch:6/10, batch:208, loss:5.607790313661099e-05\n",
      "Train epoch:6/10, batch:308, loss:4.400142468512058e-05\n",
      "Train epoch:6/10, batch:408, loss:0.0012762494385242461\n",
      "Train epoch:6/10, batch:508, loss:0.0005766458809375763\n",
      "Train epoch:6/10, batch:608, loss:0.000707825943827629\n",
      "Train epoch:6/10, batch:708, loss:0.0003055728413164616\n",
      "Train epoch:7/10, batch:26, loss:2.7848901227116584e-05\n",
      "Train epoch:7/10, batch:126, loss:0.00045944433659315107\n",
      "Train epoch:7/10, batch:226, loss:0.0018060474097728728\n",
      "Train epoch:7/10, batch:326, loss:0.00029416019096970556\n",
      "Train epoch:7/10, batch:426, loss:0.0017039379477500915\n",
      "Train epoch:7/10, batch:526, loss:0.0006643299758434296\n",
      "Train epoch:7/10, batch:626, loss:8.312519639730453e-05\n",
      "Train epoch:7/10, batch:726, loss:0.0024665766954421998\n",
      "Train epoch:8/10, batch:44, loss:0.00021616974845528603\n",
      "Train epoch:8/10, batch:144, loss:0.000366976335644722\n",
      "Train epoch:8/10, batch:244, loss:0.0006959371268749237\n",
      "Train epoch:8/10, batch:344, loss:0.0005791256204247475\n",
      "Train epoch:8/10, batch:444, loss:0.0001059805229306221\n",
      "Train epoch:8/10, batch:544, loss:0.0009612370282411576\n",
      "Train epoch:8/10, batch:644, loss:0.0004643230512738228\n",
      "Train epoch:8/10, batch:744, loss:0.0002334490604698658\n",
      "Train epoch:9/10, batch:62, loss:0.00017818693071603776\n",
      "Train epoch:9/10, batch:162, loss:0.0014673727750778198\n",
      "Train epoch:9/10, batch:262, loss:0.00047610178589820864\n",
      "Train epoch:9/10, batch:362, loss:0.0006140447407960892\n",
      "Train epoch:9/10, batch:462, loss:0.0010594217479228973\n",
      "Train epoch:9/10, batch:562, loss:0.0011116765439510346\n",
      "Train epoch:9/10, batch:662, loss:3.677888307720423e-05\n",
      "Train epoch:9/10, batch:762, loss:0.0011836358904838563\n"
     ]
    }
   ],
   "source": [
    "net = VGG7()\n",
    "net.to(device)\n",
    "\n",
    "optimizer = optim.SGD(net.parameters(), lr = 1e-2, weight_decay=0)\n",
    "\n",
    "logs_interval = 100\n",
    "epochs = 10\n",
    "\n",
    "train_losses = []\n",
    "iteration = 0\n",
    "\n",
    "net.train()\n",
    "\n",
    "for epoch in range(epochs):\n",
    "    for batch_idx, (data, target) in enumerate(train_loader):\n",
    "        data, target = data.to(device), target.to(device)\n",
    "        optimizer.zero_grad()\n",
    "        output = net(data)\n",
    "        loss = F.nll_loss(output, target)\n",
    "        loss.backward()\n",
    "        optimizer.step()\n",
    "\n",
    "        iteration = iteration + 1\n",
    "        if iteration % logs_interval == 0:\n",
    "            print('Train epoch:{}/{}, batch:{}, loss:{}'.format(epoch+1, epochs, (batch_idx + 1), loss.item()/logs_interval))\n",
    "            train_losses.append(loss.item())\n",
    "\n",
    "#torch.save(net, \"baseline.pth\")"
   ]
  },
  {
   "attachments": {},
   "cell_type": "markdown",
   "metadata": {},
   "source": [
    "### Evaluate model performance on test data"
   ]
  },
  {
   "cell_type": "code",
   "execution_count": 11,
   "metadata": {},
   "outputs": [
    {
     "name": "stdout",
     "output_type": "stream",
     "text": [
      "Test set average loss: 0.08832393205234548, accuracy: 97.95%\n"
     ]
    },
    {
     "data": {
      "text/plain": [
       "[<matplotlib.lines.Line2D at 0x1a39e5eeb90>]"
      ]
     },
     "execution_count": 11,
     "metadata": {},
     "output_type": "execute_result"
    },
    {
     "data": {
      "image/png": "[encoded data removed]",
      "text/plain": [
       "<Figure size 640x480 with 1 Axes>"
      ]
     },
     "metadata": {},
     "output_type": "display_data"
    }
   ],
   "source": [
    "net.eval()\n",
    "loss = 0\n",
    "correct = 0\n",
    "\n",
    "confusion_matrix = np.zeros((10, 10))\n",
    "\n",
    "with torch.no_grad():\n",
    "    for data, target in test_loader:\n",
    "        data, target = data.to(device), target.to(device)\n",
    "        output = net(data)\n",
    "        loss += F.nll_loss(output, target, reduction=\"sum\").item()\n",
    "        pred = output.max(1, keepdim=True)[1]\n",
    "        correct += pred.eq(target.view_as(pred)).sum().item()\n",
    "        confusion_matrix[pred.cpu()[:, 0], target.cpu()] += 1\n",
    "\n",
    "    loss = loss/len(test_loader.dataset)\n",
    "    accuracy = 100.*correct/len(test_loader.dataset)\n",
    "    print('Test set average loss: {}, accuracy: {}%'.format(loss, accuracy))\n",
    "\n",
    "plt.plot(train_losses)"
   ]
  }
 ],
 "metadata": {
  "kernelspec": {
   "display_name": "Python 3",
   "language": "python",
   "name": "python3"
  },
  "language_info": {
   "codemirror_mode": {
    "name": "ipython",
    "version": 3
   },
   "file_extension": ".py",
   "mimetype": "text/x-python",
   "name": "python",
   "nbconvert_exporter": "python",
   "pygments_lexer": "ipython3",
   "version": "3.10.5"
  },
  "orig_nbformat": 4,
  "vscode": {
   "interpreter": {
    "hash": "da9c6a45712c6b513c4a80738271fc65c25531d6aa017375b96d9ba6472bbc68"
   }
  }
 },
 "nbformat": 4,
 "nbformat_minor": 2
}
